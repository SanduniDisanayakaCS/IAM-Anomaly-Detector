{
 "cells": [
  {
   "cell_type": "code",
   "execution_count": 2,
   "id": "2a6dd6ab-417b-49eb-a3f0-1ebeeb8e6c96",
   "metadata": {},
   "outputs": [
    {
     "data": {
      "text/html": [
       "<div>\n",
       "<style scoped>\n",
       "    .dataframe tbody tr th:only-of-type {\n",
       "        vertical-align: middle;\n",
       "    }\n",
       "\n",
       "    .dataframe tbody tr th {\n",
       "        vertical-align: top;\n",
       "    }\n",
       "\n",
       "    .dataframe thead th {\n",
       "        text-align: right;\n",
       "    }\n",
       "</style>\n",
       "<table border=\"1\" class=\"dataframe\">\n",
       "  <thead>\n",
       "    <tr style=\"text-align: right;\">\n",
       "      <th></th>\n",
       "      <th>eventTime</th>\n",
       "      <th>userIdentity</th>\n",
       "      <th>eventName</th>\n",
       "      <th>sourceIPAddress</th>\n",
       "      <th>awsRegion</th>\n",
       "      <th>userAgent</th>\n",
       "      <th>responseElements</th>\n",
       "      <th>requestParameters</th>\n",
       "    </tr>\n",
       "  </thead>\n",
       "  <tbody>\n",
       "    <tr>\n",
       "      <th>0</th>\n",
       "      <td>2024-12-01T12:00:00Z</td>\n",
       "      <td>alice</td>\n",
       "      <td>ListBuckets</td>\n",
       "      <td>192.168.1.10</td>\n",
       "      <td>us-west-2</td>\n",
       "      <td>aws-cli/2.7.0</td>\n",
       "      <td>Success</td>\n",
       "      <td>{}</td>\n",
       "    </tr>\n",
       "    <tr>\n",
       "      <th>1</th>\n",
       "      <td>2024-12-01T12:10:00Z</td>\n",
       "      <td>bob</td>\n",
       "      <td>CreateUser</td>\n",
       "      <td>192.168.1.23</td>\n",
       "      <td>us-east-1</td>\n",
       "      <td>aws-sdk-java</td>\n",
       "      <td>Success</td>\n",
       "      <td>{'userName': 'new_user'}</td>\n",
       "    </tr>\n",
       "    <tr>\n",
       "      <th>2</th>\n",
       "      <td>2024-12-01T12:20:00Z</td>\n",
       "      <td>eve</td>\n",
       "      <td>DeleteUser</td>\n",
       "      <td>10.0.0.5</td>\n",
       "      <td>ap-south-1</td>\n",
       "      <td>bot</td>\n",
       "      <td>Failed</td>\n",
       "      <td>{'userName': 'admin'}</td>\n",
       "    </tr>\n",
       "  </tbody>\n",
       "</table>\n",
       "</div>"
      ],
      "text/plain": [
       "              eventTime userIdentity    eventName sourceIPAddress   awsRegion  \\\n",
       "0  2024-12-01T12:00:00Z        alice  ListBuckets    192.168.1.10   us-west-2   \n",
       "1  2024-12-01T12:10:00Z          bob   CreateUser    192.168.1.23   us-east-1   \n",
       "2  2024-12-01T12:20:00Z          eve   DeleteUser        10.0.0.5  ap-south-1   \n",
       "\n",
       "       userAgent responseElements         requestParameters  \n",
       "0  aws-cli/2.7.0          Success                        {}  \n",
       "1   aws-sdk-java          Success  {'userName': 'new_user'}  \n",
       "2            bot           Failed     {'userName': 'admin'}  "
      ]
     },
     "execution_count": 2,
     "metadata": {},
     "output_type": "execute_result"
    }
   ],
   "source": [
    "import pandas as pd\n",
    "import json\n",
    "\n",
    "# Load IAM logs\n",
    "with open('../data/iam_logs_sample.json') as f:\n",
    "    data = json.load(f)\n",
    "\n",
    "df = pd.DataFrame(data)\n",
    "df.head()\n"
   ]
  },
  {
   "cell_type": "code",
   "execution_count": 8,
   "id": "77404d77-6bfd-45bc-8969-714c9cd92aa4",
   "metadata": {},
   "outputs": [],
   "source": [
    "import numpy as np\n",
    "from sklearn.preprocessing import LabelEncoder\n"
   ]
  },
  {
   "cell_type": "code",
   "execution_count": 9,
   "id": "7318e2f3-5fec-4869-976a-4baf3c7ba158",
   "metadata": {},
   "outputs": [],
   "source": [
    "# Convert time to datetime\n",
    "df['eventTime'] = pd.to_datetime(df['eventTime'])\n",
    "\n",
    "# Extract numeric time features\n",
    "df['hour'] = df['eventTime'].dt.hour\n",
    "df['minute'] = df['eventTime'].dt.minute\n",
    "df['timestamp'] = df['eventTime'].astype(np.int64) // 10**9\n"
   ]
  },
  {
   "cell_type": "code",
   "execution_count": 10,
   "id": "6027b43c-8648-4cbd-bb83-ba370b59fde9",
   "metadata": {},
   "outputs": [],
   "source": [
    "categorical_cols = ['userIdentity', 'eventName', 'sourceIPAddress', 'awsRegion', 'userAgent', 'responseElements']\n",
    "label_encoders = {}\n",
    "\n",
    "for col in categorical_cols:\n",
    "    le = LabelEncoder()\n",
    "    df[col + '_encoded'] = le.fit_transform(df[col])\n",
    "    label_encoders[col] = le\n"
   ]
  },
  {
   "cell_type": "code",
   "execution_count": 11,
   "id": "b9899462-bfea-46bc-ad01-4f09273c25b8",
   "metadata": {},
   "outputs": [
    {
     "data": {
      "text/html": [
       "<div>\n",
       "<style scoped>\n",
       "    .dataframe tbody tr th:only-of-type {\n",
       "        vertical-align: middle;\n",
       "    }\n",
       "\n",
       "    .dataframe tbody tr th {\n",
       "        vertical-align: top;\n",
       "    }\n",
       "\n",
       "    .dataframe thead th {\n",
       "        text-align: right;\n",
       "    }\n",
       "</style>\n",
       "<table border=\"1\" class=\"dataframe\">\n",
       "  <thead>\n",
       "    <tr style=\"text-align: right;\">\n",
       "      <th></th>\n",
       "      <th>hour</th>\n",
       "      <th>minute</th>\n",
       "      <th>timestamp</th>\n",
       "      <th>userIdentity_encoded</th>\n",
       "      <th>eventName_encoded</th>\n",
       "      <th>sourceIPAddress_encoded</th>\n",
       "      <th>awsRegion_encoded</th>\n",
       "      <th>userAgent_encoded</th>\n",
       "      <th>responseElements_encoded</th>\n",
       "    </tr>\n",
       "  </thead>\n",
       "  <tbody>\n",
       "    <tr>\n",
       "      <th>0</th>\n",
       "      <td>12</td>\n",
       "      <td>0</td>\n",
       "      <td>1733054400</td>\n",
       "      <td>0</td>\n",
       "      <td>2</td>\n",
       "      <td>1</td>\n",
       "      <td>2</td>\n",
       "      <td>0</td>\n",
       "      <td>1</td>\n",
       "    </tr>\n",
       "    <tr>\n",
       "      <th>1</th>\n",
       "      <td>12</td>\n",
       "      <td>10</td>\n",
       "      <td>1733055000</td>\n",
       "      <td>1</td>\n",
       "      <td>0</td>\n",
       "      <td>2</td>\n",
       "      <td>1</td>\n",
       "      <td>1</td>\n",
       "      <td>1</td>\n",
       "    </tr>\n",
       "    <tr>\n",
       "      <th>2</th>\n",
       "      <td>12</td>\n",
       "      <td>20</td>\n",
       "      <td>1733055600</td>\n",
       "      <td>2</td>\n",
       "      <td>1</td>\n",
       "      <td>0</td>\n",
       "      <td>0</td>\n",
       "      <td>2</td>\n",
       "      <td>0</td>\n",
       "    </tr>\n",
       "  </tbody>\n",
       "</table>\n",
       "</div>"
      ],
      "text/plain": [
       "   hour  minute   timestamp  userIdentity_encoded  eventName_encoded  \\\n",
       "0    12       0  1733054400                     0                  2   \n",
       "1    12      10  1733055000                     1                  0   \n",
       "2    12      20  1733055600                     2                  1   \n",
       "\n",
       "   sourceIPAddress_encoded  awsRegion_encoded  userAgent_encoded  \\\n",
       "0                        1                  2                  0   \n",
       "1                        2                  1                  1   \n",
       "2                        0                  0                  2   \n",
       "\n",
       "   responseElements_encoded  \n",
       "0                         1  \n",
       "1                         1  \n",
       "2                         0  "
      ]
     },
     "execution_count": 11,
     "metadata": {},
     "output_type": "execute_result"
    }
   ],
   "source": [
    "df_engineered = df.drop(['eventTime', 'requestParameters'] + categorical_cols, axis=1)\n",
    "df_engineered.head()\n"
   ]
  },
  {
   "cell_type": "code",
   "execution_count": 12,
   "id": "5de47e8c-52ce-4e90-a80b-562efb16d71b",
   "metadata": {},
   "outputs": [],
   "source": [
    "df_engineered.to_csv('../data/iam_logs_engineered.csv', index=False)\n"
   ]
  },
  {
   "cell_type": "code",
   "execution_count": 13,
   "id": "a721e9b5-3703-43a2-97d2-96f6fba6a91c",
   "metadata": {},
   "outputs": [],
   "source": [
    "from sklearn.ensemble import IsolationForest\n"
   ]
  },
  {
   "cell_type": "code",
   "execution_count": 14,
   "id": "f8537f0e-9242-4859-8873-b0d523fcea6b",
   "metadata": {},
   "outputs": [],
   "source": [
    "# Load the engineered data (if not already in memory)\n",
    "df_model = pd.read_csv('../data/iam_logs_engineered.csv')\n",
    "\n",
    "# Prepare feature matrix\n",
    "X = df_model.copy()\n"
   ]
  },
  {
   "cell_type": "code",
   "execution_count": 15,
   "id": "b9c93671-4557-4020-8ed1-e812a972169d",
   "metadata": {},
   "outputs": [
    {
     "data": {
      "text/html": [
       "<div>\n",
       "<style scoped>\n",
       "    .dataframe tbody tr th:only-of-type {\n",
       "        vertical-align: middle;\n",
       "    }\n",
       "\n",
       "    .dataframe tbody tr th {\n",
       "        vertical-align: top;\n",
       "    }\n",
       "\n",
       "    .dataframe thead th {\n",
       "        text-align: right;\n",
       "    }\n",
       "</style>\n",
       "<table border=\"1\" class=\"dataframe\">\n",
       "  <thead>\n",
       "    <tr style=\"text-align: right;\">\n",
       "      <th></th>\n",
       "      <th>hour</th>\n",
       "      <th>minute</th>\n",
       "      <th>timestamp</th>\n",
       "      <th>userIdentity_encoded</th>\n",
       "      <th>eventName_encoded</th>\n",
       "      <th>sourceIPAddress_encoded</th>\n",
       "      <th>awsRegion_encoded</th>\n",
       "      <th>userAgent_encoded</th>\n",
       "      <th>responseElements_encoded</th>\n",
       "      <th>anomaly</th>\n",
       "    </tr>\n",
       "  </thead>\n",
       "  <tbody>\n",
       "    <tr>\n",
       "      <th>0</th>\n",
       "      <td>12</td>\n",
       "      <td>0</td>\n",
       "      <td>1733054400</td>\n",
       "      <td>0</td>\n",
       "      <td>2</td>\n",
       "      <td>1</td>\n",
       "      <td>2</td>\n",
       "      <td>0</td>\n",
       "      <td>1</td>\n",
       "      <td>1</td>\n",
       "    </tr>\n",
       "    <tr>\n",
       "      <th>1</th>\n",
       "      <td>12</td>\n",
       "      <td>10</td>\n",
       "      <td>1733055000</td>\n",
       "      <td>1</td>\n",
       "      <td>0</td>\n",
       "      <td>2</td>\n",
       "      <td>1</td>\n",
       "      <td>1</td>\n",
       "      <td>1</td>\n",
       "      <td>1</td>\n",
       "    </tr>\n",
       "    <tr>\n",
       "      <th>2</th>\n",
       "      <td>12</td>\n",
       "      <td>20</td>\n",
       "      <td>1733055600</td>\n",
       "      <td>2</td>\n",
       "      <td>1</td>\n",
       "      <td>0</td>\n",
       "      <td>0</td>\n",
       "      <td>2</td>\n",
       "      <td>0</td>\n",
       "      <td>1</td>\n",
       "    </tr>\n",
       "  </tbody>\n",
       "</table>\n",
       "</div>"
      ],
      "text/plain": [
       "   hour  minute   timestamp  userIdentity_encoded  eventName_encoded  \\\n",
       "0    12       0  1733054400                     0                  2   \n",
       "1    12      10  1733055000                     1                  0   \n",
       "2    12      20  1733055600                     2                  1   \n",
       "\n",
       "   sourceIPAddress_encoded  awsRegion_encoded  userAgent_encoded  \\\n",
       "0                        1                  2                  0   \n",
       "1                        2                  1                  1   \n",
       "2                        0                  0                  2   \n",
       "\n",
       "   responseElements_encoded  anomaly  \n",
       "0                         1        1  \n",
       "1                         1        1  \n",
       "2                         0        1  "
      ]
     },
     "execution_count": 15,
     "metadata": {},
     "output_type": "execute_result"
    }
   ],
   "source": [
    "# Train the model\n",
    "model = IsolationForest(contamination=0.2, random_state=42)\n",
    "model.fit(X)\n",
    "\n",
    "# Predict anomalies\n",
    "X['anomaly'] = model.predict(X)\n",
    "X.head()\n"
   ]
  },
  {
   "cell_type": "code",
   "execution_count": 16,
   "id": "762aedc3-2c4f-4c9c-b61d-fc6397b627a2",
   "metadata": {},
   "outputs": [],
   "source": [
    "X.to_csv('../data/iam_logs_with_anomaly.csv', index=False)\n"
   ]
  },
  {
   "cell_type": "code",
   "execution_count": 17,
   "id": "e4314c9a-4ce7-4d7a-84bf-9cd6e8c6f23c",
   "metadata": {},
   "outputs": [],
   "source": [
    "import matplotlib.pyplot as plt\n",
    "import seaborn as sns\n"
   ]
  },
  {
   "cell_type": "code",
   "execution_count": 18,
   "id": "8716bdf3-165f-4d42-bbd8-593ffe7db349",
   "metadata": {},
   "outputs": [],
   "source": [
    "df_plot = pd.read_csv('../data/iam_logs_with_anomaly.csv')\n"
   ]
  },
  {
   "cell_type": "code",
   "execution_count": 19,
   "id": "a653b6f5-4fab-43c8-9549-d466bb199ba6",
   "metadata": {},
   "outputs": [
    {
     "data": {
      "image/png": "[encoded data removed]",
      "text/plain": [
       "<Figure size 1000x500 with 1 Axes>"
      ]
     },
     "metadata": {},
     "output_type": "display_data"
    }
   ],
   "source": [
    "plt.figure(figsize=(10, 5))\n",
    "sns.scatterplot(data=df_plot, x='timestamp', y='userIdentity_encoded', hue='anomaly', palette='coolwarm', s=100)\n",
    "plt.title(\"IAM Log Anomalies (Red = Outlier)\")\n",
    "plt.xlabel(\"Timestamp\")\n",
    "plt.ylabel(\"User Identity (encoded)\")\n",
    "plt.grid(True)\n",
    "plt.show()\n"
   ]
  },
  {
   "cell_type": "code",
   "execution_count": 20,
   "id": "cd233ae6-5d1f-417e-aac4-252de0aab4fa",
   "metadata": {},
   "outputs": [
    {
     "data": {
      "image/png": "[encoded data removed]",
      "text/plain": [
       "<Figure size 1000x500 with 1 Axes>"
      ]
     },
     "metadata": {},
     "output_type": "display_data"
    }
   ],
   "source": [
    "plt.figure(figsize=(10, 5))\n",
    "sns.scatterplot(\n",
    "    data=df_plot,\n",
    "    x='eventName_encoded',\n",
    "    y='sourceIPAddress_encoded',\n",
    "    hue='anomaly',\n",
    "    palette='coolwarm',\n",
    "    s=100\n",
    ")\n",
    "plt.title(\"Event vs IP (Anomaly Highlighted)\")\n",
    "plt.xlabel(\"Event Name (encoded)\")\n",
    "plt.ylabel(\"Source IP (encoded)\")\n",
    "plt.grid(True)\n",
    "plt.show()\n"
   ]
  },
  {
   "cell_type": "code",
   "execution_count": null,
   "id": "1defa15b-5f8a-471d-af36-09ba62b15a00",
   "metadata": {},
   "outputs": [],
   "source": []
  }
 ],
 "metadata": {
  "kernelspec": {
   "display_name": "Python 3 (ipykernel)",
   "language": "python",
   "name": "python3"
  },
  "language_info": {
   "codemirror_mode": {
    "name": "ipython",
    "version": 3
   },
   "file_extension": ".py",
   "mimetype": "text/x-python",
   "name": "python",
   "nbconvert_exporter": "python",
   "pygments_lexer": "ipython3",
   "version": "3.13.2"
  }
 },
 "nbformat": 4,
 "nbformat_minor": 5
}
